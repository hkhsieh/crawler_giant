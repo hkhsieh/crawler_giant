{
 "cells": [
  {
   "cell_type": "code",
   "execution_count": 1,
   "metadata": {},
   "outputs": [],
   "source": [
    "#import requests\n",
    "from pyquery import  PyQuery as pq\n",
    "from time import sleep"
   ]
  },
  {
   "cell_type": "code",
   "execution_count": 7,
   "metadata": {},
   "outputs": [
    {
     "name": "stdout",
     "output_type": "stream",
     "text": [
      "股票代號2345 目前股價: 536.00\n"
     ]
    }
   ],
   "source": [
    "#header = {\"User-Agent\":\"Mozilla/5.0 (Windows NT 10.0; Win64; x64) AppleWebKit/537.36 (KHTML, like Gecko) Chrome/42.0.2311.135 Safari/537.36 Edge/12.246\"} \n",
    "ua = {\"user-agent\":\"Mozilla/5.0 (Windows NT 6.1; WOW64; rv:77.0) Gecko/20190101 Firefox/77.0\"}\n",
    "pyPage = pq(url=\"https://www.google.com.tw/search?q=2345\", encoding = \"utf-8\", headers= ua )\n",
    "print(\"股票代號2345 目前股價: \" + pyPage.find('span.IsqQVc.NprOob.wT3VGc').text())"
   ]
  },
  {
   "cell_type": "code",
   "execution_count": 9,
   "metadata": {},
   "outputs": [
    {
     "name": "stdout",
     "output_type": "stream",
     "text": [
      "股票代號2330 目前股價: 579.00\n",
      "股票代號2345 目前股價: 536.00\n",
      "股票代號2538 目前股價: 16.80\n"
     ]
    }
   ],
   "source": [
    "slist = [2330, 2345, 2538]\n",
    "\n",
    "ua = {\"user-agent\":\"Mozilla/5.0 (Windows NT 6.1; WOW64; rv:77.0) Gecko/20190101 Firefox/77.0\"}\n",
    "for sid in slist:\n",
    "    pyPage = pq(url=\"https://www.google.com.tw/search?q=\"+str(sid), encoding = \"utf-8\", headers= ua )\n",
    "    print(\"股票代號\"+ str(sid) +\" 目前股價: \" + pyPage.find('span.IsqQVc.NprOob.wT3VGc').text())\n",
    "    # 建議暫停各n秒，以免過度傳送查詢被偵測到爬蟲\n",
    "    sleep(3)"
   ]
  },
  {
   "cell_type": "code",
   "execution_count": null,
   "metadata": {},
   "outputs": [],
   "source": [
    "<span jsname=\"vWLAgc\" class=\"IsqQVc NprOob wT3VGc\">536.00</span>"
   ]
  }
 ],
 "metadata": {
  "kernelspec": {
   "display_name": "Python 3",
   "language": "python",
   "name": "python3"
  },
  "language_info": {
   "codemirror_mode": {
    "name": "ipython",
    "version": 3
   },
   "file_extension": ".py",
   "mimetype": "text/x-python",
   "name": "python",
   "nbconvert_exporter": "python",
   "pygments_lexer": "ipython3",
   "version": "3.10.9"
  }
 },
 "nbformat": 4,
 "nbformat_minor": 2
}
